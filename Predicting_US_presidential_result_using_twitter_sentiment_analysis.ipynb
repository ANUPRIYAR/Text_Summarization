{
  "nbformat": 4,
  "nbformat_minor": 0,
  "metadata": {
    "colab": {
      "name": "Predicting_US_presidential_result_using_twitter_sentiment_analysis.ipynb",
      "provenance": [],
      "authorship_tag": "ABX9TyNPp+ciXdkJe0MRDKbAChed",
      "include_colab_link": true
    },
    "kernelspec": {
      "name": "python3",
      "display_name": "Python 3"
    }
  },
  "cells": [
    {
      "cell_type": "markdown",
      "metadata": {
        "id": "view-in-github",
        "colab_type": "text"
      },
      "source": [
        "<a href=\"https://colab.research.google.com/github/ANUPRIYAR/Text_Summarization/blob/main/Predicting_US_presidential_result_using_twitter_sentiment_analysis.ipynb\" target=\"_parent\"><img src=\"https://colab.research.google.com/assets/colab-badge.svg\" alt=\"Open In Colab\"/></a>"
      ]
    },
    {
      "cell_type": "markdown",
      "metadata": {
        "id": "aGEUFbAom2hv"
      },
      "source": [
        "**This article is majorly divided into 3 parts**\n",
        "\n",
        "Dataset creation\n",
        "\n",
        "Data analysis\n",
        "\n",
        "Data visualization"
      ]
    },
    {
      "cell_type": "code",
      "metadata": {
        "colab": {
          "base_uri": "https://localhost:8080/"
        },
        "id": "F_HPf4pxxTRS",
        "outputId": "270b7e1e-d8f7-4bd6-8c93-7ccabb90a251"
      },
      "source": [
        "# !pip install tweepy"
      ],
      "execution_count": 1,
      "outputs": [
        {
          "output_type": "stream",
          "text": [
            "Requirement already satisfied: tweepy in /usr/local/lib/python3.6/dist-packages (3.6.0)\n",
            "Requirement already satisfied: six>=1.10.0 in /usr/local/lib/python3.6/dist-packages (from tweepy) (1.15.0)\n",
            "Requirement already satisfied: requests>=2.11.1 in /usr/local/lib/python3.6/dist-packages (from tweepy) (2.23.0)\n",
            "Requirement already satisfied: requests-oauthlib>=0.7.0 in /usr/local/lib/python3.6/dist-packages (from tweepy) (1.3.0)\n",
            "Requirement already satisfied: PySocks>=1.5.7 in /usr/local/lib/python3.6/dist-packages (from tweepy) (1.7.1)\n",
            "Requirement already satisfied: idna<3,>=2.5 in /usr/local/lib/python3.6/dist-packages (from requests>=2.11.1->tweepy) (2.10)\n",
            "Requirement already satisfied: chardet<4,>=3.0.2 in /usr/local/lib/python3.6/dist-packages (from requests>=2.11.1->tweepy) (3.0.4)\n",
            "Requirement already satisfied: certifi>=2017.4.17 in /usr/local/lib/python3.6/dist-packages (from requests>=2.11.1->tweepy) (2020.11.8)\n",
            "Requirement already satisfied: urllib3!=1.25.0,!=1.25.1,<1.26,>=1.21.1 in /usr/local/lib/python3.6/dist-packages (from requests>=2.11.1->tweepy) (1.24.3)\n",
            "Requirement already satisfied: oauthlib>=3.0.0 in /usr/local/lib/python3.6/dist-packages (from requests-oauthlib>=0.7.0->tweepy) (3.1.0)\n"
          ],
          "name": "stdout"
        }
      ]
    },
    {
      "cell_type": "code",
      "metadata": {
        "id": "6loBTERy_lBg"
      },
      "source": [
        "import csv \n",
        "import tweepy\n",
        "import ssl"
      ],
      "execution_count": 2,
      "outputs": []
    },
    {
      "cell_type": "code",
      "metadata": {
        "id": "u6U6FY-F_xbL"
      },
      "source": [
        "# Outh Keys\n",
        "\n",
        "consumer_key = \"jRK8UPxmso47xnv92TaDeaIRb\"\n",
        "consumer_secret = \"yMyZPm9e4C020lRbq4Ja3BNGrVvND4qf4wtJY2JKLcpxTSMGbV\"\n",
        "access_token = \"553532632-DmpZlA45Z2KPZka5OVnrs2iGjzUpEOfWN1UUnmDI\"\n",
        "access_token_secret = \"ojOuwpCjrguBWcx7JHpDwZ5VbpzkqZS0YTi6JpVeqcizI\""
      ],
      "execution_count": 3,
      "outputs": []
    },
    {
      "cell_type": "code",
      "metadata": {
        "id": "22KVYMDACR4v"
      },
      "source": [
        "# Setup Authentication with Twitter\n",
        "\n",
        "auth = tweepy.OAuthHandler(consumer_key, consumer_secret)\n",
        "auth.set_access_token(access_token, access_token_secret)\n",
        "ssl._create_default_https_context = ssl._create_unverified_context\n",
        "api = tweepy.API(auth)\n",
        "api = tweepy.API(auth, wait_on_rate_limit=True)"
      ],
      "execution_count": 4,
      "outputs": []
    },
    {
      "cell_type": "code",
      "metadata": {
        "colab": {
          "base_uri": "https://localhost:8080/"
        },
        "id": "5uRpROx_Cms1",
        "outputId": "97f81861-a919-4f31-f252-568e4447ca6a"
      },
      "source": [
        "# checking if Twitter API is working or not\n",
        "\n",
        "user = api.me()\n",
        "print(user.name)"
      ],
      "execution_count": 7,
      "outputs": [
        {
          "output_type": "stream",
          "text": [
            "anupriya\n"
          ],
          "name": "stdout"
        }
      ]
    },
    {
      "cell_type": "code",
      "metadata": {
        "id": "3nUilMnJCy3W"
      },
      "source": [
        "# Scraping user’s Tweets from a specific Twitter handle\n",
        "name = 'realDonaldTrump'\n",
        "tweet_id = '1334240039639937026'"
      ],
      "execution_count": 10,
      "outputs": []
    },
    {
      "cell_type": "code",
      "metadata": {
        "id": "YAjmE_5eDjIX"
      },
      "source": [
        "# Scraping 1000's of his most recent tweet replies\n",
        "replies=[]\n",
        "for tweet in tweepy.Cursor(api.search,q='to:'+name, result_type='recent', timeout=999999).items(100):\n",
        "    if hasattr(tweet, 'in_reply_to_status_id_str'):\n",
        "        if (tweet.in_reply_to_status_id_str==tweet_id):\n",
        "            replies.append(tweet)\n",
        "\n",
        "with open('trump_data.csv', 'a+') as f:\n",
        "    csv_writer = csv.DictWriter(f, fieldnames=('user', 'text'))\n",
        "    csv_writer.writeheader()\n",
        "    for tweet in replies:\n",
        "        row = {'user': tweet.user.screen_name, 'text': tweet.text.replace('\\n', ' ')}\n",
        "        csv_writer.writerow(row)"
      ],
      "execution_count": 11,
      "outputs": []
    },
    {
      "cell_type": "markdown",
      "metadata": {
        "id": "fCcLgccPDuN6"
      },
      "source": [
        "To further customize your search you can view the rest of the search parameters available in the API docs of tweepy [here](https://tweepy.readthedocs.io/en/latest/api.html#API.**search**)."
      ]
    },
    {
      "cell_type": "code",
      "metadata": {
        "id": "3DIdc_SpEAZh"
      },
      "source": [
        ""
      ],
      "execution_count": null,
      "outputs": []
    }
  ]
}